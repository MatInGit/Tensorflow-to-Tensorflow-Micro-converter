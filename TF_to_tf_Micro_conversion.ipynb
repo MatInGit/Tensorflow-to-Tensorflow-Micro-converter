{
  "nbformat": 4,
  "nbformat_minor": 0,
  "metadata": {
    "colab": {
      "name": "TF_to_tf_Micro_conversion.ipynb",
      "provenance": [],
      "collapsed_sections": [],
      "authorship_tag": "ABX9TyM6n0qjl9kgQo6Peef6I8SH",
      "include_colab_link": true
    },
    "kernelspec": {
      "display_name": "Python 3",
      "name": "python3"
    }
  },
  "cells": [
    {
      "cell_type": "markdown",
      "metadata": {
        "id": "view-in-github",
        "colab_type": "text"
      },
      "source": [
        "<a href=\"https://colab.research.google.com/github/MatInGit/Tensorflow-to-Tensorflow-Micro-converter/blob/main/TF_to_tf_Micro_conversion.ipynb\" target=\"_parent\"><img src=\"https://colab.research.google.com/assets/colab-badge.svg\" alt=\"Open In Colab\"/></a>"
      ]
    },
    {
      "cell_type": "markdown",
      "metadata": {
        "id": "43hmMR4AqFCi"
      },
      "source": [
        "# **Tensorflow to Tensorflow Micro converter**\r\n",
        "\r\n",
        "This Notebook is based on the one available at [here](https://colab.research.google.com/github/tensorflow/tensorflow/blob/master/tensorflow/lite/micro/examples/hello_world/train/train_hello_world_model.ipynb#scrollTo=gD60bE8cXQId)\r\n",
        "\r\n",
        "The objective is to streamline the process.\r\n",
        "\r\n",
        "To start, drop your model on the left hand side (expand if needed) so that it is uploaded to the temporary storage."
      ]
    },
    {
      "cell_type": "code",
      "metadata": {
        "id": "oulYbFLhp-_8"
      },
      "source": [
        "# ! pip install tensorflow==2.4.0\r\n",
        "# ! pip install h5py\r\n",
        "# ! pip install tensorflow_model_optimization # If you used quantization aware training \r\n",
        "\r\n",
        "import tensorflow as tf\r\n",
        "# import tensorflow_model_optimization as tfmot\r\n",
        "import numpy as np\r\n",
        "\r\n",
        "# upload by dragging onto the left hand side panel"
      ],
      "execution_count": null,
      "outputs": []
    },
    {
      "cell_type": "code",
      "metadata": {
        "id": "KNt69NxHrlxW"
      },
      "source": [
        "model = tf.keras.models.load_model('<yout model name here>.h5')\r\n",
        "\r\n",
        "\r\n",
        "# # If you used quantization aware training \r\n",
        "# with tfmot.quantization.keras.quantize_scope():\r\n",
        "#     model = tf.keras.models.load_model('<yout model name here>.h5')\r\n",
        "\r\n",
        "converter = tf.lite.TFLiteConverter.from_keras_model(model)\r\n",
        "converter.optimizations = [tf.lite.Optimize.DEFAULT]\r\n",
        "\r\n",
        "\r\n",
        "# Enforce integer only quantization - Optional\r\n",
        "\r\n",
        "# converter.target_spec.supported_ops = [tf.lite.OpsSet.TFLITE_BUILTINS_INT8] \r\n",
        "\r\n",
        "\r\n",
        "# Generate Representative dataset - IMPORTANT\r\n",
        "\r\n",
        "def representative_dataset(samples = 6400000):\r\n",
        "    for _ in range(samples):                                                    # Change - Rule of thumb 1000*input size # warning this may take a while\r\n",
        "      data = (np.random.rand(640,)*140) -60                                     # Adjust to your range or load a dataset\r\n",
        "      yield [data.astype(np.float32)]                                           # Change to your input dtype\r\n",
        "\r\n",
        "\r\n",
        "# This converts the model to tf lite\r\n",
        "converter.representative_dataset = representative_dataset\r\n",
        "tflite_model = converter.convert()\r\n",
        "\r\n",
        " \r\n",
        "open(\"converted_model.tflite\", \"wb\").write(tflite_model)\r\n",
        "\r\n",
        "\r\n",
        "# This dumps the files as a hex file and saves it as a header file\r\n",
        "!apt-get -qq install xxd\r\n",
        "!echo \"const unsigned char model[] = {\" > /content/model.h\r\n",
        "!cat converted_model.tflite | xxd -i      >> /content/model.h\r\n",
        "!echo \"};\"                              >> /content/model.h\r\n",
        "\r\n",
        "\r\n",
        "import os\r\n",
        "model_h_size = os.path.getsize(\"model.h\")\r\n",
        "print(f\"Model size: {model_h_size:,} bytes, remmeber to edit the .h file.\")"
      ],
      "execution_count": null,
      "outputs": []
    },
    {
      "cell_type": "code",
      "metadata": {
        "id": "gBO-OaeSMmXb"
      },
      "source": [
        ""
      ],
      "execution_count": null,
      "outputs": []
    }
  ]
}